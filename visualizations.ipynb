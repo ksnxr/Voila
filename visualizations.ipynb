{
 "cells": [
  {
   "cell_type": "code",
   "execution_count": 1,
   "id": "b6a67cb6-3d8c-4733-ad7e-df143d85303c",
   "metadata": {},
   "outputs": [],
   "source": [
    "import bqplot.pyplot as plt\n",
    "import pandas as pd\n",
    "from bqplot.traits import convert_to_date\n",
    "from bqplot import ColorScale\n",
    "import datetime\n",
    "import pickle\n",
    "import numpy as np"
   ]
  },
  {
   "cell_type": "code",
   "execution_count": 3,
   "id": "95418ffa-8bf4-4eb3-baef-072dae3203a9",
   "metadata": {},
   "outputs": [],
   "source": [
    "extended_dates = pickle.load(open('predictions/extended_dates.pkl', 'rb'))"
   ]
  },
  {
   "cell_type": "code",
   "execution_count": 4,
   "id": "235cc82c-1e5c-4a7e-b461-a9c9eae34e84",
   "metadata": {
    "tags": []
   },
   "outputs": [
    {
     "data": {
      "text/html": [
       "<div>\n",
       "<style scoped>\n",
       "    .dataframe tbody tr th:only-of-type {\n",
       "        vertical-align: middle;\n",
       "    }\n",
       "\n",
       "    .dataframe tbody tr th {\n",
       "        vertical-align: top;\n",
       "    }\n",
       "\n",
       "    .dataframe thead th {\n",
       "        text-align: right;\n",
       "    }\n",
       "</style>\n",
       "<table border=\"1\" class=\"dataframe\">\n",
       "  <thead>\n",
       "    <tr style=\"text-align: right;\">\n",
       "      <th></th>\n",
       "      <th>Date</th>\n",
       "      <th>USRECD</th>\n",
       "      <th>GDP_abs</th>\n",
       "      <th>GDP_rate</th>\n",
       "      <th>CAPE</th>\n",
       "      <th>BAAFFM</th>\n",
       "      <th>BCI</th>\n",
       "      <th>CCI</th>\n",
       "      <th>CLI</th>\n",
       "      <th>IJC</th>\n",
       "      <th>PMIC</th>\n",
       "      <th>T10Y2Y</th>\n",
       "      <th>T10Y3M</th>\n",
       "    </tr>\n",
       "  </thead>\n",
       "  <tbody>\n",
       "    <tr>\n",
       "      <th>0</th>\n",
       "      <td>1976-06-01</td>\n",
       "      <td>0</td>\n",
       "      <td>1875.274703</td>\n",
       "      <td>5.007692</td>\n",
       "      <td>2.445819</td>\n",
       "      <td>4.410000</td>\n",
       "      <td>4.615738</td>\n",
       "      <td>4.606126</td>\n",
       "      <td>4.617217</td>\n",
       "      <td>5.974581</td>\n",
       "      <td>58.200000</td>\n",
       "      <td>0.680000</td>\n",
       "      <td>1.986320</td>\n",
       "    </tr>\n",
       "    <tr>\n",
       "      <th>1</th>\n",
       "      <td>1976-06-02</td>\n",
       "      <td>0</td>\n",
       "      <td>1875.650813</td>\n",
       "      <td>4.938462</td>\n",
       "      <td>2.446449</td>\n",
       "      <td>4.413333</td>\n",
       "      <td>4.615611</td>\n",
       "      <td>4.606180</td>\n",
       "      <td>4.617210</td>\n",
       "      <td>5.967291</td>\n",
       "      <td>58.123333</td>\n",
       "      <td>0.710000</td>\n",
       "      <td>1.986137</td>\n",
       "    </tr>\n",
       "    <tr>\n",
       "      <th>2</th>\n",
       "      <td>1976-06-03</td>\n",
       "      <td>0</td>\n",
       "      <td>1876.026923</td>\n",
       "      <td>4.869231</td>\n",
       "      <td>2.447078</td>\n",
       "      <td>4.416667</td>\n",
       "      <td>4.615483</td>\n",
       "      <td>4.606234</td>\n",
       "      <td>4.617203</td>\n",
       "      <td>5.960001</td>\n",
       "      <td>58.046667</td>\n",
       "      <td>0.700000</td>\n",
       "      <td>1.985953</td>\n",
       "    </tr>\n",
       "    <tr>\n",
       "      <th>3</th>\n",
       "      <td>1976-06-04</td>\n",
       "      <td>0</td>\n",
       "      <td>1876.403033</td>\n",
       "      <td>4.800000</td>\n",
       "      <td>2.447708</td>\n",
       "      <td>4.420000</td>\n",
       "      <td>4.615356</td>\n",
       "      <td>4.606288</td>\n",
       "      <td>4.617196</td>\n",
       "      <td>5.952711</td>\n",
       "      <td>57.970000</td>\n",
       "      <td>0.770000</td>\n",
       "      <td>1.985770</td>\n",
       "    </tr>\n",
       "    <tr>\n",
       "      <th>4</th>\n",
       "      <td>1976-06-05</td>\n",
       "      <td>0</td>\n",
       "      <td>1876.779143</td>\n",
       "      <td>4.730769</td>\n",
       "      <td>2.448337</td>\n",
       "      <td>4.423333</td>\n",
       "      <td>4.615228</td>\n",
       "      <td>4.606343</td>\n",
       "      <td>4.617189</td>\n",
       "      <td>5.945421</td>\n",
       "      <td>57.893333</td>\n",
       "      <td>0.776667</td>\n",
       "      <td>1.985587</td>\n",
       "    </tr>\n",
       "  </tbody>\n",
       "</table>\n",
       "</div>"
      ],
      "text/plain": [
       "         Date  USRECD      GDP_abs  GDP_rate      CAPE    BAAFFM       BCI  \\\n",
       "0  1976-06-01       0  1875.274703  5.007692  2.445819  4.410000  4.615738   \n",
       "1  1976-06-02       0  1875.650813  4.938462  2.446449  4.413333  4.615611   \n",
       "2  1976-06-03       0  1876.026923  4.869231  2.447078  4.416667  4.615483   \n",
       "3  1976-06-04       0  1876.403033  4.800000  2.447708  4.420000  4.615356   \n",
       "4  1976-06-05       0  1876.779143  4.730769  2.448337  4.423333  4.615228   \n",
       "\n",
       "        CCI       CLI       IJC       PMIC    T10Y2Y    T10Y3M  \n",
       "0  4.606126  4.617217  5.974581  58.200000  0.680000  1.986320  \n",
       "1  4.606180  4.617210  5.967291  58.123333  0.710000  1.986137  \n",
       "2  4.606234  4.617203  5.960001  58.046667  0.700000  1.985953  \n",
       "3  4.606288  4.617196  5.952711  57.970000  0.770000  1.985770  \n",
       "4  4.606343  4.617189  5.945421  57.893333  0.776667  1.985587  "
      ]
     },
     "execution_count": 4,
     "metadata": {},
     "output_type": "execute_result"
    }
   ],
   "source": [
    "df_path = \"merged_data/CAPE_BAAFFM_BCI_CCI_CLI_IJC_PMIC_T10Y2Y_T10Y3M_vs_USRESCD_GDP.csv\"\n",
    "features = ['CAPE', \"BAAFFM\", \"BCI\", \"CCI\", \"CLI\", \"IJC\", \"PMIC\", \"T10Y2Y\", \"T10Y3M\"]\n",
    "model_names_classification = [\"Logistic Regression\", \"Penalized SVM\", \"Random Forest\", \"LSTM\"]\n",
    "model_names_regression = [\"Linear Regression\", \"LSTM\"]\n",
    "target_variables_classification = [\"USRECD\"]\n",
    "target_variables_regression = [\"GDP_rate\", \"GDP_abs\"]\n",
    "df = pd.read_csv(df_path)\n",
    "dates = convert_to_date(df.Date.tolist(), fmt='%Y-%m-%d')\n",
    "df.head()"
   ]
  },
  {
   "cell_type": "code",
   "execution_count": 5,
   "id": "f611b603-cbcc-46ca-9ac5-3ae6b8aff76f",
   "metadata": {},
   "outputs": [],
   "source": [
    "def plot(model_name, target_variable):\n",
    "    predictions_path = f'predictions/{model_name}_{target_variable}.pkl'\n",
    "    predictions = pickle.load(open(predictions_path, 'rb'))\n",
    "    plt.figure()\n",
    "    plt.title(model_name + ' ' + target_variable)\n",
    "    plt.plot(x=dates, y=df[target_variable], colors='blue')\n",
    "    plt.plot(x=convert_to_date(extended_dates, fmt='%Y-%m-%d'), y=predictions, colors='red')\n",
    "    plt.show()"
   ]
  },
  {
   "cell_type": "code",
   "execution_count": 6,
   "id": "1e1ff81b-d299-4789-8572-7a9703fe26f3",
   "metadata": {},
   "outputs": [
    {
     "data": {
      "application/vnd.jupyter.widget-view+json": {
       "model_id": "65976622fba743cb91015adaf982d0ac",
       "version_major": 2,
       "version_minor": 0
      },
      "text/plain": [
       "VBox(children=(Figure(axes=[Axis(scale=DateScale()), Axis(orientation='vertical', scale=LinearScale())], fig_m…"
      ]
     },
     "metadata": {},
     "output_type": "display_data"
    },
    {
     "data": {
      "application/vnd.jupyter.widget-view+json": {
       "model_id": "72802d8f6fa24ba1a39f3cd8c5b2701c",
       "version_major": 2,
       "version_minor": 0
      },
      "text/plain": [
       "VBox(children=(Figure(axes=[Axis(scale=DateScale()), Axis(orientation='vertical', scale=LinearScale())], fig_m…"
      ]
     },
     "metadata": {},
     "output_type": "display_data"
    },
    {
     "data": {
      "application/vnd.jupyter.widget-view+json": {
       "model_id": "a9f1b53b5785423ea49d5b19774eaeac",
       "version_major": 2,
       "version_minor": 0
      },
      "text/plain": [
       "VBox(children=(Figure(axes=[Axis(scale=DateScale()), Axis(orientation='vertical', scale=LinearScale())], fig_m…"
      ]
     },
     "metadata": {},
     "output_type": "display_data"
    },
    {
     "data": {
      "application/vnd.jupyter.widget-view+json": {
       "model_id": "a3e5c493fedf49d084c710c95ed6d67c",
       "version_major": 2,
       "version_minor": 0
      },
      "text/plain": [
       "VBox(children=(Figure(axes=[Axis(scale=DateScale()), Axis(orientation='vertical', scale=LinearScale())], fig_m…"
      ]
     },
     "metadata": {},
     "output_type": "display_data"
    }
   ],
   "source": [
    "for i in range(len(model_names_classification)):\n",
    "    for j in range(len(target_variables_classification)):\n",
    "        plot(model_names_classification[i], target_variables_classification[j])"
   ]
  },
  {
   "cell_type": "code",
   "execution_count": 7,
   "id": "4f0c6903-273f-4e18-a471-3e1e21540e8e",
   "metadata": {},
   "outputs": [
    {
     "data": {
      "application/vnd.jupyter.widget-view+json": {
       "model_id": "55bce9f608184d2dae329ffd760c1cd4",
       "version_major": 2,
       "version_minor": 0
      },
      "text/plain": [
       "VBox(children=(Figure(axes=[Axis(scale=DateScale()), Axis(orientation='vertical', scale=LinearScale())], fig_m…"
      ]
     },
     "metadata": {},
     "output_type": "display_data"
    },
    {
     "data": {
      "application/vnd.jupyter.widget-view+json": {
       "model_id": "76832c6ee65149978eff9c1bc2717e64",
       "version_major": 2,
       "version_minor": 0
      },
      "text/plain": [
       "VBox(children=(Figure(axes=[Axis(scale=DateScale()), Axis(orientation='vertical', scale=LinearScale())], fig_m…"
      ]
     },
     "metadata": {},
     "output_type": "display_data"
    },
    {
     "data": {
      "application/vnd.jupyter.widget-view+json": {
       "model_id": "4fd21c8ec20a426d89fe65947a36f711",
       "version_major": 2,
       "version_minor": 0
      },
      "text/plain": [
       "VBox(children=(Figure(axes=[Axis(scale=DateScale()), Axis(orientation='vertical', scale=LinearScale())], fig_m…"
      ]
     },
     "metadata": {},
     "output_type": "display_data"
    },
    {
     "data": {
      "application/vnd.jupyter.widget-view+json": {
       "model_id": "4f1fa61b14c249f58c5fd36e66f5f9a0",
       "version_major": 2,
       "version_minor": 0
      },
      "text/plain": [
       "VBox(children=(Figure(axes=[Axis(scale=DateScale()), Axis(orientation='vertical', scale=LinearScale())], fig_m…"
      ]
     },
     "metadata": {},
     "output_type": "display_data"
    }
   ],
   "source": [
    "for i in range(len(model_names_regression)):\n",
    "    for j in range(len(target_variables_regression)):\n",
    "        plot(model_names_regression[i], target_variables_regression[j])"
   ]
  },
  {
   "cell_type": "code",
   "execution_count": null,
   "id": "4195740b-17d9-4841-b5e3-57caed06a707",
   "metadata": {},
   "outputs": [],
   "source": []
  }
 ],
 "metadata": {
  "kernelspec": {
   "display_name": "Python 3 (ipykernel)",
   "language": "python",
   "name": "python3"
  },
  "language_info": {
   "codemirror_mode": {
    "name": "ipython",
    "version": 3
   },
   "file_extension": ".py",
   "mimetype": "text/x-python",
   "name": "python",
   "nbconvert_exporter": "python",
   "pygments_lexer": "ipython3",
   "version": "3.9.7"
  }
 },
 "nbformat": 4,
 "nbformat_minor": 5
}
