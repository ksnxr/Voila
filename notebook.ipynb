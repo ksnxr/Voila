{
 "cells": [
  {
   "cell_type": "code",
   "execution_count": 1,
   "id": "b6a67cb6-3d8c-4733-ad7e-df143d85303c",
   "metadata": {},
   "outputs": [],
   "source": [
    "import bqplot.pyplot as plt\n",
    "import pandas as pd\n",
    "from bqplot.traits import convert_to_date\n",
    "from bqplot import ColorScale\n",
    "import datetime\n",
    "import pickle\n",
    "import numpy as np"
   ]
  },
  {
   "cell_type": "code",
   "execution_count": 2,
   "id": "95418ffa-8bf4-4eb3-baef-072dae3203a9",
   "metadata": {},
   "outputs": [],
   "source": [
    "extended_dates = pickle.load(open('predictions/extended_dates.pkl', 'rb'))"
   ]
  },
  {
   "cell_type": "code",
   "execution_count": 3,
   "id": "235cc82c-1e5c-4a7e-b461-a9c9eae34e84",
   "metadata": {
    "tags": []
   },
   "outputs": [],
   "source": [
    "df_path = \"merged_data/CAPE_BAAFFM_BCI_CCI_CLI_IJC_PMIC_T10Y2Y_T10Y3M_vs_USRESCD_GDP.csv\"\n",
    "features = ['CAPE', \"BAAFFM\", \"BCI\", \"CCI\", \"CLI\", \"IJC\", \"PMIC\", \"T10Y2Y\", \"T10Y3M\"]\n",
    "model_names_classification = [\"Logistic Regression\", \"Penalized SVM\", \"Random Forest\", \"LSTM\"]\n",
    "model_names_regression = [\"Linear Regression\", \"LSTM\"]\n",
    "target_variables_classification = [\"USRECD\"]\n",
    "target_variables_regression = [\"GDP_rate\", \"GDP_abs\"]\n",
    "df = pd.read_csv(df_path)\n",
    "dates = convert_to_date(df.Date.tolist(), fmt='%Y-%m-%d')"
   ]
  },
  {
   "cell_type": "markdown",
   "id": "2906eed4-688b-40f3-8038-f57b971d17af",
   "metadata": {},
   "source": [
    "# Predictions\n",
    "\n",
    "The following graphs show our models' predictions."
   ]
  },
  {
   "cell_type": "code",
   "execution_count": 4,
   "id": "f611b603-cbcc-46ca-9ac5-3ae6b8aff76f",
   "metadata": {},
   "outputs": [],
   "source": [
    "def plot(model_name, target_variable):\n",
    "    predictions_path = f'predictions/{model_name}_{target_variable}.pkl'\n",
    "    predictions = pickle.load(open(predictions_path, 'rb'))\n",
    "    plt.figure()\n",
    "    plt.title(target_variable)\n",
    "    plt.plot(x=dates, y=df[target_variable], colors='blue')\n",
    "    plt.plot(x=convert_to_date(extended_dates, fmt='%Y-%m-%d'), y=predictions, colors='red')\n",
    "    plt.show()"
   ]
  },
  {
   "cell_type": "markdown",
   "id": "7306d62b-e928-41d1-98b7-f4fe8d066ef8",
   "metadata": {},
   "source": [
    "## Stable"
   ]
  },
  {
   "cell_type": "code",
   "execution_count": 5,
   "id": "1e1ff81b-d299-4789-8572-7a9703fe26f3",
   "metadata": {},
   "outputs": [
    {
     "data": {
      "application/vnd.jupyter.widget-view+json": {
       "model_id": "84919c6ea08c410d944c77abd9046462",
       "version_major": 2,
       "version_minor": 0
      },
      "text/plain": [
       "VBox(children=(Figure(axes=[Axis(scale=DateScale()), Axis(orientation='vertical', scale=LinearScale())], fig_m…"
      ]
     },
     "metadata": {},
     "output_type": "display_data"
    }
   ],
   "source": [
    "plot(model_names_classification[2], target_variables_classification[0])"
   ]
  },
  {
   "cell_type": "markdown",
   "id": "ebb8685f-68b9-49df-9bf4-ad636dc4d7a9",
   "metadata": {},
   "source": [
    "## Experimental"
   ]
  },
  {
   "cell_type": "code",
   "execution_count": 6,
   "id": "4f0c6903-273f-4e18-a471-3e1e21540e8e",
   "metadata": {},
   "outputs": [
    {
     "data": {
      "application/vnd.jupyter.widget-view+json": {
       "model_id": "ceeffdd763f94b82baad67e7926ea629",
       "version_major": 2,
       "version_minor": 0
      },
      "text/plain": [
       "VBox(children=(Figure(axes=[Axis(scale=DateScale()), Axis(orientation='vertical', scale=LinearScale())], fig_m…"
      ]
     },
     "metadata": {},
     "output_type": "display_data"
    }
   ],
   "source": [
    "plot(model_names_regression[0], target_variables_regression[0])"
   ]
  },
  {
   "cell_type": "markdown",
   "id": "b73e0199-ee2d-4e2a-9d04-6bf012f2eaf4",
   "metadata": {},
   "source": [
    "# Why trust our models\n",
    "\n",
    "According to our validation and test, the displayed model predicts recession accurately more than 90% of the time."
   ]
  },
  {
   "cell_type": "code",
   "execution_count": null,
   "id": "4195740b-17d9-4841-b5e3-57caed06a707",
   "metadata": {},
   "outputs": [],
   "source": []
  }
 ],
 "metadata": {
  "kernelspec": {
   "display_name": "Python 3 (ipykernel)",
   "language": "python",
   "name": "python3"
  },
  "language_info": {
   "codemirror_mode": {
    "name": "ipython",
    "version": 3
   },
   "file_extension": ".py",
   "mimetype": "text/x-python",
   "name": "python",
   "nbconvert_exporter": "python",
   "pygments_lexer": "ipython3",
   "version": "3.9.7"
  }
 },
 "nbformat": 4,
 "nbformat_minor": 5
}
