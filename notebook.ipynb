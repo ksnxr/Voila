{
 "cells": [
  {
   "cell_type": "code",
   "execution_count": 1,
   "id": "b6a67cb6-3d8c-4733-ad7e-df143d85303c",
   "metadata": {},
   "outputs": [],
   "source": [
    "import bqplot.pyplot as plt\n",
    "import pandas as pd\n",
    "from bqplot.traits import convert_to_date\n",
    "from bqplot import ColorScale\n",
    "import datetime\n",
    "import pickle\n",
    "import numpy as np"
   ]
  },
  {
   "cell_type": "code",
   "execution_count": 2,
   "id": "95418ffa-8bf4-4eb3-baef-072dae3203a9",
   "metadata": {},
   "outputs": [],
   "source": [
    "extended_dates = pickle.load(open('predictions/extended_dates.pkl', 'rb'))"
   ]
  },
  {
   "cell_type": "code",
   "execution_count": 3,
   "id": "235cc82c-1e5c-4a7e-b461-a9c9eae34e84",
   "metadata": {
    "tags": []
   },
   "outputs": [],
   "source": [
    "df_path = \"merged_data/CAPE_BAAFFM_BCI_CCI_CLI_IJC_PMIC_T10Y2Y_T10Y3M_vs_USRESCD_GDP.csv\"\n",
    "features = ['CAPE', \"BAAFFM\", \"BCI\", \"CCI\", \"CLI\", \"IJC\", \"PMIC\", \"T10Y2Y\", \"T10Y3M\"]\n",
    "model_names_classification = [\"Logistic Regression\", \"Penalized SVM\", \"Random Forest\", \"LSTM\"]\n",
    "model_names_regression = [\"Linear Regression\", \"LSTM\"]\n",
    "target_variables_classification = [\"USRECD\"]\n",
    "target_variables_regression = [\"GDP_rate\", \"GDP_abs\"]\n",
    "df = pd.read_csv(df_path)\n",
    "dates = convert_to_date(df.Date.tolist(), fmt='%Y-%m-%d')"
   ]
  },
  {
   "cell_type": "markdown",
   "id": "28a2af3e-92dd-4f83-ba64-5e359cd3288a",
   "metadata": {},
   "source": [
    "# Overview"
   ]
  },
  {
   "cell_type": "markdown",
   "id": "904fc5ba-72e8-41df-b4a0-2cd696861de9",
   "metadata": {},
   "source": [
    "We explored two different tasks, classification and regression.\n",
    "\n",
    "For the classification part, the task is to predict whether the US would be in a recession 180 days later, using the current features. Our models achieved considerable performances in this task.\n",
    "\n",
    "For the regression part, the task is to predict the exact GDP growth rate and the exact GDP value. Our models' performances were not that good, so we won't focus on them."
   ]
  },
  {
   "cell_type": "markdown",
   "id": "37d77ad2-df41-42da-8324-e51c53bdb696",
   "metadata": {},
   "source": [
    "# Comparisons of model performance"
   ]
  },
  {
   "cell_type": "markdown",
   "id": "e3da745c-3e6d-49f7-a7e3-7848bff323c0",
   "metadata": {},
   "source": [
    "## Validation\n",
    "\n",
    "We used TimeSeriesSplit with 3 splits to validate the performances of our models. The following graph displays comparisons between different models."
   ]
  },
  {
   "cell_type": "code",
   "execution_count": 4,
   "id": "047b631c-2460-4588-9096-b96fdd3bbc4c",
   "metadata": {},
   "outputs": [
    {
     "data": {
      "application/vnd.jupyter.widget-view+json": {
       "model_id": "bd16169952e949ae92e506913d6116ad",
       "version_major": 2,
       "version_minor": 0
      },
      "text/plain": [
       "VBox(children=(Figure(axes=[Axis(scale=OrdinalScale()), Axis(orientation='vertical', scale=LinearScale())], fi…"
      ]
     },
     "metadata": {},
     "output_type": "display_data"
    }
   ],
   "source": [
    "plt.figure()\n",
    "plt.title('Average AUC ROC')\n",
    "x = ['Logistic Regression', 'Penalized SVM', 'Random Forest', 'LSTM']\n",
    "y = [0.820, 0.702, 0.830, 0.828]\n",
    "plt.bar(x, y)\n",
    "plt.show()"
   ]
  },
  {
   "cell_type": "code",
   "execution_count": 5,
   "id": "330d850e-55a9-4f39-bc4b-621bd893cc3f",
   "metadata": {},
   "outputs": [
    {
     "data": {
      "application/vnd.jupyter.widget-view+json": {
       "model_id": "3f92bcfc2049420e80559841ed6f388d",
       "version_major": 2,
       "version_minor": 0
      },
      "text/plain": [
       "VBox(children=(Figure(axes=[Axis(scale=OrdinalScale()), Axis(orientation='vertical', scale=LinearScale())], fi…"
      ]
     },
     "metadata": {},
     "output_type": "display_data"
    }
   ],
   "source": [
    "plt.figure()\n",
    "plt.title('Average accuracy')\n",
    "x = ['Logistic Regression', 'Penalized SVM', 'Random Forest', 'LSTM']\n",
    "y = [0.897, 0.560, 0.905, 0.905]\n",
    "plt.bar(x, y)\n",
    "plt.show()"
   ]
  },
  {
   "cell_type": "markdown",
   "id": "e85f3a47-bc94-4eb6-beb8-bbb63337febe",
   "metadata": {},
   "source": [
    "## Test\n",
    "\n",
    "We tested our models' performances on a test set, which was never used for training. The following graph displays comparisons between different models. For the purpose of comparisons, we also included results from naive methods."
   ]
  },
  {
   "cell_type": "code",
   "execution_count": 6,
   "id": "ac7fad19-34c2-4c72-907d-70099562ca49",
   "metadata": {},
   "outputs": [
    {
     "data": {
      "application/vnd.jupyter.widget-view+json": {
       "model_id": "27649d929458490b9c26ea1ed0d40d15",
       "version_major": 2,
       "version_minor": 0
      },
      "text/plain": [
       "VBox(children=(Figure(axes=[Axis(scale=OrdinalScale()), Axis(orientation='vertical', scale=LinearScale())], fi…"
      ]
     },
     "metadata": {},
     "output_type": "display_data"
    }
   ],
   "source": [
    "plt.figure()\n",
    "plt.title('AUC ROC')\n",
    "x = ['Logistic Regression', 'Penalized SVM', 'Random Forest', 'LSTM', 'Baseline #1', 'Baseline #2', 'Baseline #3']\n",
    "y = [0.948, 0.952, 0.905, 0.843, 0.5, 0.490, 0.5]\n",
    "plt.bar(x, y)\n",
    "plt.show()"
   ]
  },
  {
   "cell_type": "code",
   "execution_count": 7,
   "id": "a9d1684f-d191-4091-9451-bd41004bd8ef",
   "metadata": {},
   "outputs": [
    {
     "data": {
      "application/vnd.jupyter.widget-view+json": {
       "model_id": "ab8dcabdf46b4382ad876d22cc55cb31",
       "version_major": 2,
       "version_minor": 0
      },
      "text/plain": [
       "VBox(children=(Figure(axes=[Axis(scale=OrdinalScale()), Axis(orientation='vertical', scale=LinearScale())], fi…"
      ]
     },
     "metadata": {},
     "output_type": "display_data"
    }
   ],
   "source": [
    "plt.figure()\n",
    "plt.title('Accuracy')\n",
    "x = ['Logistic Regression', 'Penalized SVM', 'Random Forest', 'LSTM', 'Baseline #1', 'Baseline #2', 'Baseline #3']\n",
    "y = [0.962, 0.162, 0.962, 0.960, 0.962, 0.869, 0.962]\n",
    "plt.bar(x, y)\n",
    "plt.show()"
   ]
  },
  {
   "cell_type": "markdown",
   "id": "08abb573-7ec8-4acd-86fd-72f73f96a52e",
   "metadata": {},
   "source": [
    "## Test\n",
    "\n",
    "We tested our models' performances on a test set, which was never used for training. The following graph displays comparisons between different models. For the purpose of comparisons, we also included results from naive methods."
   ]
  },
  {
   "cell_type": "code",
   "execution_count": 8,
   "id": "4d4e9a86-2507-4fb7-88ec-92dc37854373",
   "metadata": {},
   "outputs": [
    {
     "data": {
      "application/vnd.jupyter.widget-view+json": {
       "model_id": "e9b308e1eb7d4e008109b28f10840b0e",
       "version_major": 2,
       "version_minor": 0
      },
      "text/plain": [
       "VBox(children=(Figure(axes=[Axis(scale=OrdinalScale()), Axis(orientation='vertical', scale=LinearScale())], fi…"
      ]
     },
     "metadata": {},
     "output_type": "display_data"
    }
   ],
   "source": [
    "plt.figure()\n",
    "plt.title('AUC ROC')\n",
    "x = ['Logistic Regression', 'Penalized SVM', 'Random Forest', 'LSTM', 'Baseline #1', 'Baseline #2', 'Baseline #3']\n",
    "y = [0.948, 0.952, 0.905, 0.843, 0.5, 0.490, 0.5]\n",
    "plt.bar(x, y)\n",
    "plt.show()"
   ]
  },
  {
   "cell_type": "markdown",
   "id": "2906eed4-688b-40f3-8038-f57b971d17af",
   "metadata": {},
   "source": [
    "# Predictions\n",
    "\n",
    "The following graphs show our models' predictions."
   ]
  },
  {
   "cell_type": "code",
   "execution_count": 9,
   "id": "f611b603-cbcc-46ca-9ac5-3ae6b8aff76f",
   "metadata": {},
   "outputs": [],
   "source": [
    "def plot(model_name, target_variable):\n",
    "    predictions_path = f'predictions/{model_name}_{target_variable}.pkl'\n",
    "    predictions = pickle.load(open(predictions_path, 'rb'))\n",
    "    plt.figure()\n",
    "    plt.title(model_name + ' ' + target_variable)\n",
    "    plt.plot(x=dates, y=df[target_variable], colors='blue')\n",
    "    plt.plot(x=convert_to_date(extended_dates, fmt='%Y-%m-%d'), y=predictions, colors='red')\n",
    "    plt.show()"
   ]
  },
  {
   "cell_type": "code",
   "execution_count": 10,
   "id": "1e1ff81b-d299-4789-8572-7a9703fe26f3",
   "metadata": {},
   "outputs": [
    {
     "data": {
      "application/vnd.jupyter.widget-view+json": {
       "model_id": "e6ca5bd059fc4d289ab611726deb5ae6",
       "version_major": 2,
       "version_minor": 0
      },
      "text/plain": [
       "VBox(children=(Figure(axes=[Axis(scale=DateScale()), Axis(orientation='vertical', scale=LinearScale())], fig_m…"
      ]
     },
     "metadata": {},
     "output_type": "display_data"
    },
    {
     "data": {
      "application/vnd.jupyter.widget-view+json": {
       "model_id": "6ca72b43ee56491397a9b695bef2d7df",
       "version_major": 2,
       "version_minor": 0
      },
      "text/plain": [
       "VBox(children=(Figure(axes=[Axis(scale=DateScale()), Axis(orientation='vertical', scale=LinearScale())], fig_m…"
      ]
     },
     "metadata": {},
     "output_type": "display_data"
    },
    {
     "data": {
      "application/vnd.jupyter.widget-view+json": {
       "model_id": "dd0ae1d04060426d91b9338cfb4d572e",
       "version_major": 2,
       "version_minor": 0
      },
      "text/plain": [
       "VBox(children=(Figure(axes=[Axis(scale=DateScale()), Axis(orientation='vertical', scale=LinearScale())], fig_m…"
      ]
     },
     "metadata": {},
     "output_type": "display_data"
    },
    {
     "data": {
      "application/vnd.jupyter.widget-view+json": {
       "model_id": "bd876ab7554c4446bfa5c4bfc4457b39",
       "version_major": 2,
       "version_minor": 0
      },
      "text/plain": [
       "VBox(children=(Figure(axes=[Axis(scale=DateScale()), Axis(orientation='vertical', scale=LinearScale())], fig_m…"
      ]
     },
     "metadata": {},
     "output_type": "display_data"
    }
   ],
   "source": [
    "for i in range(len(model_names_classification)):\n",
    "    for j in range(len(target_variables_classification)):\n",
    "        plot(model_names_classification[i], target_variables_classification[j])"
   ]
  },
  {
   "cell_type": "code",
   "execution_count": 11,
   "id": "4f0c6903-273f-4e18-a471-3e1e21540e8e",
   "metadata": {},
   "outputs": [
    {
     "data": {
      "application/vnd.jupyter.widget-view+json": {
       "model_id": "96c54ca9feb840af8860edd454ee6206",
       "version_major": 2,
       "version_minor": 0
      },
      "text/plain": [
       "VBox(children=(Figure(axes=[Axis(scale=DateScale()), Axis(orientation='vertical', scale=LinearScale())], fig_m…"
      ]
     },
     "metadata": {},
     "output_type": "display_data"
    },
    {
     "data": {
      "application/vnd.jupyter.widget-view+json": {
       "model_id": "c5eff0d6f6b1494b8d389e2dfca07e27",
       "version_major": 2,
       "version_minor": 0
      },
      "text/plain": [
       "VBox(children=(Figure(axes=[Axis(scale=DateScale()), Axis(orientation='vertical', scale=LinearScale())], fig_m…"
      ]
     },
     "metadata": {},
     "output_type": "display_data"
    },
    {
     "data": {
      "application/vnd.jupyter.widget-view+json": {
       "model_id": "272e468329ad437b88ce0ae40fde7654",
       "version_major": 2,
       "version_minor": 0
      },
      "text/plain": [
       "VBox(children=(Figure(axes=[Axis(scale=DateScale()), Axis(orientation='vertical', scale=LinearScale())], fig_m…"
      ]
     },
     "metadata": {},
     "output_type": "display_data"
    },
    {
     "data": {
      "application/vnd.jupyter.widget-view+json": {
       "model_id": "b8bc7f6069154d2183f3c1db5436eb5c",
       "version_major": 2,
       "version_minor": 0
      },
      "text/plain": [
       "VBox(children=(Figure(axes=[Axis(scale=DateScale()), Axis(orientation='vertical', scale=LinearScale())], fig_m…"
      ]
     },
     "metadata": {},
     "output_type": "display_data"
    }
   ],
   "source": [
    "for i in range(len(model_names_regression)):\n",
    "    for j in range(len(target_variables_regression)):\n",
    "        plot(model_names_regression[i], target_variables_regression[j])"
   ]
  },
  {
   "cell_type": "code",
   "execution_count": null,
   "id": "4195740b-17d9-4841-b5e3-57caed06a707",
   "metadata": {},
   "outputs": [],
   "source": []
  }
 ],
 "metadata": {
  "kernelspec": {
   "display_name": "Python 3 (ipykernel)",
   "language": "python",
   "name": "python3"
  },
  "language_info": {
   "codemirror_mode": {
    "name": "ipython",
    "version": 3
   },
   "file_extension": ".py",
   "mimetype": "text/x-python",
   "name": "python",
   "nbconvert_exporter": "python",
   "pygments_lexer": "ipython3",
   "version": "3.9.7"
  }
 },
 "nbformat": 4,
 "nbformat_minor": 5
}
